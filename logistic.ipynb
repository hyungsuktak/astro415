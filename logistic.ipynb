{
 "cells": [
  {
   "cell_type": "markdown",
   "metadata": {},
   "source": [
    "# Logistic Regression\n",
    "\n",
    "In this R Jupyter notebook, we go through the code implementation for a logistic regression model. In particular, we are interested in whether the probability of getting $A/A-$ is related to both midterm 1 score AND gender.\n",
    "\n",
    "## 1. Loading the data\n",
    "\n",
    "If the data size is not large, it may be convenient to make two data vectors manually as follows."
   ]
  },
  {
   "cell_type": "code",
   "execution_count": 1,
   "metadata": {},
   "outputs": [],
   "source": [
    "midterm1 <- c(23, 22.5, 21.5, 21.25, 13, 25, 14.5, 20, 18, 18, 19.5, \n",
    "              25, 23, 19, 24, 20, 24, 24, 18.5, 18, 16, 21.85, 25, 19.5) # explanatory variable 1\n",
    "\n",
    "gender <- c(0, 0, 0, 0, 0, 0, 0, 1, 0, 0, 1, 0, 0, 0, 1, 0, 1, 1, 1, 0, 0, 1, 0, 1) # explanatory variable 2\n",
    "\n",
    "aam <- c(1, 1, 1, 0, 0, 1, 0, 1, 0, 0, 1, 1, 0, 0, 1, 1, 1, 1, 0, 0, 0, 1, 1, 0) # response variable"
   ]
  },
  {
   "cell_type": "markdown",
   "metadata": {},
   "source": [
    "If the data size is not small enough for a manual input, we have to load the data. The following is an example of loading the data \"aam.csv\" from my desktop folder. Please refer to the previous jupyter notebooks, especially \"SLR.ipynb\", which contains details of loading the data."
   ]
  },
  {
   "cell_type": "code",
   "execution_count": 2,
   "metadata": {},
   "outputs": [
    {
     "data": {
      "text/html": [
       "<table>\n",
       "<caption>A data.frame: 6 × 3</caption>\n",
       "<thead>\n",
       "\t<tr><th></th><th scope=col>AAm</th><th scope=col>midterm1</th><th scope=col>gender</th></tr>\n",
       "\t<tr><th></th><th scope=col>&lt;int&gt;</th><th scope=col>&lt;dbl&gt;</th><th scope=col>&lt;int&gt;</th></tr>\n",
       "</thead>\n",
       "<tbody>\n",
       "\t<tr><th scope=row>1</th><td>1</td><td>23.00</td><td>0</td></tr>\n",
       "\t<tr><th scope=row>2</th><td>1</td><td>22.50</td><td>0</td></tr>\n",
       "\t<tr><th scope=row>3</th><td>1</td><td>21.50</td><td>0</td></tr>\n",
       "\t<tr><th scope=row>4</th><td>0</td><td>21.25</td><td>0</td></tr>\n",
       "\t<tr><th scope=row>5</th><td>0</td><td>13.00</td><td>0</td></tr>\n",
       "\t<tr><th scope=row>6</th><td>1</td><td>25.00</td><td>0</td></tr>\n",
       "</tbody>\n",
       "</table>\n"
      ],
      "text/latex": [
       "A data.frame: 6 × 3\n",
       "\\begin{tabular}{r|lll}\n",
       "  & AAm & midterm1 & gender\\\\\n",
       "  & <int> & <dbl> & <int>\\\\\n",
       "\\hline\n",
       "\t1 & 1 & 23.00 & 0\\\\\n",
       "\t2 & 1 & 22.50 & 0\\\\\n",
       "\t3 & 1 & 21.50 & 0\\\\\n",
       "\t4 & 0 & 21.25 & 0\\\\\n",
       "\t5 & 0 & 13.00 & 0\\\\\n",
       "\t6 & 1 & 25.00 & 0\\\\\n",
       "\\end{tabular}\n"
      ],
      "text/markdown": [
       "\n",
       "A data.frame: 6 × 3\n",
       "\n",
       "| <!--/--> | AAm &lt;int&gt; | midterm1 &lt;dbl&gt; | gender &lt;int&gt; |\n",
       "|---|---|---|---|\n",
       "| 1 | 1 | 23.00 | 0 |\n",
       "| 2 | 1 | 22.50 | 0 |\n",
       "| 3 | 1 | 21.50 | 0 |\n",
       "| 4 | 0 | 21.25 | 0 |\n",
       "| 5 | 0 | 13.00 | 0 |\n",
       "| 6 | 1 | 25.00 | 0 |\n",
       "\n"
      ],
      "text/plain": [
       "  AAm midterm1 gender\n",
       "1 1   23.00    0     \n",
       "2 1   22.50    0     \n",
       "3 1   21.50    0     \n",
       "4 0   21.25    0     \n",
       "5 0   13.00    0     \n",
       "6 1   25.00    0     "
      ]
     },
     "metadata": {},
     "output_type": "display_data"
    }
   ],
   "source": [
    "setwd(\"~/Desktop/\")\n",
    "data <- read.csv(\"aam.csv\", header = TRUE) # R is case-sensitive\n",
    "head(data)\n",
    "aam <- data[, 1]\n",
    "midterm1 <- data[, 2]\n",
    "gender <- data[, 3]"
   ]
  },
  {
   "cell_type": "markdown",
   "metadata": {},
   "source": [
    "For Window users, the fist line of the code above is replaced with\n",
    "\n",
    "setwd(\"C:/Users/hyungsuktak/Desktop/\")\n",
    "\n",
    "If the data file is a .txt file, then the following code will be used instead.\n",
    "\n",
    "midterm <- read.table(\"aam.txt\", header = TRUE)\n",
    "\n",
    "To check whether the data are correctly loaded, we use the function \"head\" that shows the first six lines of the data. To avoid any mistake, it is better to check whether the first row is correctly loaded. In this case, the first row correctly starts with (1, 23, 0).\n",
    "\n",
    "Next, we designate each column of the data to an object, as we input manually in the beginning. \n",
    "\n",
    "Now the data are loaded, and we are ready to conduct a multiple linear regression analysis.\n",
    "\n",
    "## 2. Fitting a logistic regression model\n",
    "\n",
    "The logistic regression model assumes that each binary response variable $Y_i$ is an independent (but not identically distributed) Bernoulli random variable with probability of getting $A/A-$ equal to $\\theta_i$, i.e.,\n",
    "\n",
    "$$\n",
    "Y_i\\stackrel{\\textrm{ind.}}{\\sim} \\textrm{Bern}(\\theta_i)\n",
    "$$\n",
    "\n",
    "The mean of the response variable $\\theta_i$ is connected to a linear function of regression coefficient via a logit link function. The main reason for this transformation is to match the ranges of $g(\\theta_i)$ and the linear function.\n",
    "\n",
    "$$\n",
    "\\textrm{logit}(\\theta)=\\log\\left(\\frac{\\theta_i}{1-\\theta_i}\\right)=\\beta_0+\\beta_1x_{i1}+\\beta_2x_{i2}+\\epsilon_i=x_i^{\\top}\\beta,\n",
    "$$\n",
    "\n",
    "where $x_{i1}$ is the midterm 1 score  of the $i$-th person, $x_{i2}$ is the indicator variable for female. The model also shows the matrix notation: $x_i=(1, x_{i1}, x_{i2})^{\\top}$ and $\\beta=(\\beta_0, \\beta_1, \\beta_2)^{\\top}$. We note that vectors are basically column vectors (default in mathematics). In this model, $\\beta_0, \\beta_1, \\beta_2$ are unknown parameters.\n",
    "\n",
    "\n"
   ]
  },
  {
   "cell_type": "code",
   "execution_count": 3,
   "metadata": {},
   "outputs": [],
   "source": [
    "res <- glm(aam ~ midterm1 + gender, family = binomial)"
   ]
  },
  {
   "cell_type": "markdown",
   "metadata": {},
   "source": [
    "The code above fits a logistic regression model and saves the fit in the object \"res\". To see the fit, let's type the following line."
   ]
  },
  {
   "cell_type": "code",
   "execution_count": 4,
   "metadata": {},
   "outputs": [
    {
     "data": {
      "text/plain": [
       "\n",
       "Call:\n",
       "glm(formula = aam ~ midterm1 + gender, family = binomial)\n",
       "\n",
       "Deviance Residuals: \n",
       "    Min       1Q   Median       3Q      Max  \n",
       "-1.9580  -0.3010   0.1433   0.4394   1.6838  \n",
       "\n",
       "Coefficients:\n",
       "            Estimate Std. Error z value Pr(>|z|)  \n",
       "(Intercept) -20.4588     8.9723  -2.280   0.0226 *\n",
       "midterm1      0.9659     0.4193   2.304   0.0212 *\n",
       "gender        1.8501     1.4624   1.265   0.2058  \n",
       "---\n",
       "Signif. codes:  0 ‘***’ 0.001 ‘**’ 0.01 ‘*’ 0.05 ‘.’ 0.1 ‘ ’ 1\n",
       "\n",
       "(Dispersion parameter for binomial family taken to be 1)\n",
       "\n",
       "    Null deviance: 33.104  on 23  degrees of freedom\n",
       "Residual deviance: 15.301  on 21  degrees of freedom\n",
       "AIC: 21.301\n",
       "\n",
       "Number of Fisher Scoring iterations: 6\n"
      ]
     },
     "metadata": {},
     "output_type": "display_data"
    }
   ],
   "source": [
    "summary(res)"
   ]
  },
  {
   "cell_type": "markdown",
   "metadata": {},
   "source": [
    "At $\\alpha=0.05$, both  $\\beta_0$ and  $\\beta_1$ are significantly different from zero based on their approximate $z$-tests (not $t$-tests) because both $p$-values (0.0226 and 0.0212) are smaller than $\\alpha=0.05$. Thus, WHEN ALL OTHER EXPLANATORY VARIABLES ARE HELD CONSTANT (i.e., when gender is fixed or within a sub-population defined by gender), a unit increase in midterm1 changes the odds of getting $A/A-$ by a factor of $e^{0.9659} = 2.627$. Note that the odds  of getting $A/A-$ are defined as the probability of getting $A/A-$ divided by the probability of not getting $A/A-$, i.e., $\\frac{\\theta_i}{1 - \\theta_i}$.\n",
    "\n",
    "Because gender is not significant, we conclude that being female does not affect the odds of getting $A/A-$ when midterm 1 score is held constant in the model.\n",
    "\n",
    "The default R output does not display any $p$-value for goodness-of-fit test for checking whether all explanatory variables are meaningless ($\\beta_1=\\beta_2=0$) or AT LEAST ONE of the explanatory variables is meaningful (non-zero) in explaning  the mean of the response variable. But we can test it ourselves using the given information. The test statistic $T$ is the difference between $\\texttt{Residual}$ $\\texttt{deviance}$ and $\\texttt{Null}$ $\\texttt{deviance}$. This test statistic asymptotically follows the $\\chi^2_m$ distribution by the asymptotic property of the generalized likelihood ratio test statistic, where $m$ is the number of exploratory variables (not counting the intercept term). The observed test statistic is\n",
    "\n",
    "$$\n",
    "t = 33.104 - 15.301=17.803.\n",
    "$$\n",
    "\n",
    "Since there are only two exploratory variables, the resulting $p$-value is\n",
    "\n",
    "$$\n",
    "P(T\\ge t\\mid H_0)\n",
    "$$\n",
    "\n",
    "This probability can be computed by the following code."
   ]
  },
  {
   "cell_type": "code",
   "execution_count": 5,
   "metadata": {},
   "outputs": [
    {
     "data": {
      "text/html": [
       "0.00013618449645314"
      ],
      "text/latex": [
       "0.00013618449645314"
      ],
      "text/markdown": [
       "0.00013618449645314"
      ],
      "text/plain": [
       "[1] 0.0001361845"
      ]
     },
     "metadata": {},
     "output_type": "display_data"
    }
   ],
   "source": [
    "1 - pchisq(17.803, df = 2)"
   ]
  },
  {
   "cell_type": "markdown",
   "metadata": {},
   "source": [
    "Since this $p$-value is smaller than $\\alpha=0.05$, we reject the null, concluding that the proposed model with midterm 1 score and gender is at least meaningful. Note that passing this goodness-of-fit test does not always mean that the model is optimal.\n",
    "\n",
    "\n",
    "## 3. Selecting a model\n",
    "\n",
    "Since there is an insignificant exploratory variable, gender, it is reasonable to conduct a model selection process. We use the Akaike Information Criterion (AIC)."
   ]
  },
  {
   "cell_type": "code",
   "execution_count": 6,
   "metadata": {},
   "outputs": [
    {
     "name": "stdout",
     "output_type": "stream",
     "text": [
      "Start:  AIC=21.3\n",
      "aam ~ midterm1 + gender\n",
      "\n",
      "           Df Deviance    AIC\n",
      "- gender    1   17.203 21.203\n",
      "<none>          15.301 21.301\n",
      "- midterm1  1   30.927 34.927\n",
      "\n",
      "Step:  AIC=21.2\n",
      "aam ~ midterm1\n",
      "\n",
      "           Df Deviance    AIC\n",
      "<none>          17.203 21.203\n",
      "- midterm1  1   33.104 35.104\n"
     ]
    }
   ],
   "source": [
    "res.back <- step(res)"
   ]
  },
  {
   "cell_type": "markdown",
   "metadata": {},
   "source": [
    "The result above shows that the first step of the procedure starts with the full model with all available exploratory variables, i.e., midterm1 and gender. In this step, it tries removing one exploratory variable at a time computing AIC. The negative sign infront of the variable name (e.g., - gender) means that the resulting AIC was obtained by removing the variable. For example, AIC 21.203 is obtained when we remove gender from the full model. It turns out that removing gender achieves the smallest AIC.\n",
    "\n",
    "So the second step starts with the model with only  midterm1. Similarly, in this step, it tries removing one exploratory variable (midterm1) and computes AIC. It turns out that the resulting AIC becomes higher when we remove midterm1. Because the procedure cannot improve AIC (getting smaller AIC), the model selection procedrue stops there. The final model with only midterm1 is saved in \"res.back\"."
   ]
  },
  {
   "cell_type": "code",
   "execution_count": 7,
   "metadata": {},
   "outputs": [
    {
     "data": {
      "text/plain": [
       "\n",
       "Call:\n",
       "glm(formula = aam ~ midterm1, family = binomial)\n",
       "\n",
       "Deviance Residuals: \n",
       "    Min       1Q   Median       3Q      Max  \n",
       "-2.1551  -0.5142   0.2013   0.4789   1.4872  \n",
       "\n",
       "Coefficients:\n",
       "            Estimate Std. Error z value Pr(>|z|)  \n",
       "(Intercept) -16.9898     6.6565  -2.552   0.0107 *\n",
       "midterm1      0.8352     0.3248   2.571   0.0101 *\n",
       "---\n",
       "Signif. codes:  0 ‘***’ 0.001 ‘**’ 0.01 ‘*’ 0.05 ‘.’ 0.1 ‘ ’ 1\n",
       "\n",
       "(Dispersion parameter for binomial family taken to be 1)\n",
       "\n",
       "    Null deviance: 33.104  on 23  degrees of freedom\n",
       "Residual deviance: 17.203  on 22  degrees of freedom\n",
       "AIC: 21.203\n",
       "\n",
       "Number of Fisher Scoring iterations: 6\n"
      ]
     },
     "metadata": {},
     "output_type": "display_data"
    }
   ],
   "source": [
    "summary(res.back)"
   ]
  },
  {
   "cell_type": "markdown",
   "metadata": {},
   "source": [
    "The estimated regression coefficient seems to change noticeably.  This time, a unit increase in midterm1 changes the odds of getting $A/A-$ by a factor of $e^{0.8352} = 2.305$, not $2.627$ as computed before.\n",
    "\n",
    "## 4. Making an inference\n",
    "\n",
    "Although not covered in the class, it is important to know that the fit of the logistic regression also produces the estimated probability of getting $A/A-$ for each person. This information is useful for making a prediction (or classification). It is automatically saved during the fitting process, and can be loaded by"
   ]
  },
  {
   "cell_type": "code",
   "execution_count": 8,
   "metadata": {},
   "outputs": [
    {
     "data": {
      "text/html": [
       "<style>\n",
       ".dl-inline {width: auto; margin:0; padding: 0}\n",
       ".dl-inline>dt, .dl-inline>dd {float: none; width: auto; display: inline-block}\n",
       ".dl-inline>dt::after {content: \":\\0020\"; padding-right: .5ex}\n",
       ".dl-inline>dt:not(:first-of-type) {padding-left: .5ex}\n",
       "</style><dl class=dl-inline><dt>1</dt><dd>0.901949586034438</dd><dt>2</dt><dd>0.858330398510603</dd><dt>3</dt><dd>0.724385552345182</dd><dt>4</dt><dd>0.680816827836586</dd><dt>5</dt><dd>0.00216616158098044</dd><dt>6</dt><dd>0.979952865097164</dd><dt>7</dt><dd>0.00754067752115513</dd><dt>8</dt><dd>0.428876809752941</dd><dt>9</dt><dd>0.123816318575853</dd><dt>10</dt><dd>0.123816318575853</dd><dt>11</dt><dd>0.330921422825531</dd><dt>12</dt><dd>0.979952865097164</dd><dt>13</dt><dd>0.901949586034438</dd><dt>14</dt><dd>0.245713527515811</dd><dt>15</dt><dd>0.954965551120774</dd><dt>16</dt><dd>0.428876809752941</dd><dt>17</dt><dd>0.954965551120774</dd><dt>18</dt><dd>0.954965551120774</dd><dt>19</dt><dd>0.176652875212904</dd><dt>20</dt><dd>0.123816318575853</dd><dt>21</dt><dd>0.0259038613184849</dd><dt>22</dt><dd>0.778790276551122</dd><dt>23</dt><dd>0.979952865097164</dd><dt>24</dt><dd>0.330921422825531</dd></dl>\n"
      ],
      "text/latex": [
       "\\begin{description*}\n",
       "\\item[1] 0.901949586034438\n",
       "\\item[2] 0.858330398510603\n",
       "\\item[3] 0.724385552345182\n",
       "\\item[4] 0.680816827836586\n",
       "\\item[5] 0.00216616158098044\n",
       "\\item[6] 0.979952865097164\n",
       "\\item[7] 0.00754067752115513\n",
       "\\item[8] 0.428876809752941\n",
       "\\item[9] 0.123816318575853\n",
       "\\item[10] 0.123816318575853\n",
       "\\item[11] 0.330921422825531\n",
       "\\item[12] 0.979952865097164\n",
       "\\item[13] 0.901949586034438\n",
       "\\item[14] 0.245713527515811\n",
       "\\item[15] 0.954965551120774\n",
       "\\item[16] 0.428876809752941\n",
       "\\item[17] 0.954965551120774\n",
       "\\item[18] 0.954965551120774\n",
       "\\item[19] 0.176652875212904\n",
       "\\item[20] 0.123816318575853\n",
       "\\item[21] 0.0259038613184849\n",
       "\\item[22] 0.778790276551122\n",
       "\\item[23] 0.979952865097164\n",
       "\\item[24] 0.330921422825531\n",
       "\\end{description*}\n"
      ],
      "text/markdown": [
       "1\n",
       ":   0.9019495860344382\n",
       ":   0.8583303985106033\n",
       ":   0.7243855523451824\n",
       ":   0.6808168278365865\n",
       ":   0.002166161580980446\n",
       ":   0.9799528650971647\n",
       ":   0.007540677521155138\n",
       ":   0.4288768097529419\n",
       ":   0.12381631857585310\n",
       ":   0.12381631857585311\n",
       ":   0.33092142282553112\n",
       ":   0.97995286509716413\n",
       ":   0.90194958603443814\n",
       ":   0.24571352751581115\n",
       ":   0.95496555112077416\n",
       ":   0.42887680975294117\n",
       ":   0.95496555112077418\n",
       ":   0.95496555112077419\n",
       ":   0.17665287521290420\n",
       ":   0.12381631857585321\n",
       ":   0.025903861318484922\n",
       ":   0.77879027655112223\n",
       ":   0.97995286509716424\n",
       ":   0.330921422825531\n",
       "\n"
      ],
      "text/plain": [
       "          1           2           3           4           5           6 \n",
       "0.901949586 0.858330399 0.724385552 0.680816828 0.002166162 0.979952865 \n",
       "          7           8           9          10          11          12 \n",
       "0.007540678 0.428876810 0.123816319 0.123816319 0.330921423 0.979952865 \n",
       "         13          14          15          16          17          18 \n",
       "0.901949586 0.245713528 0.954965551 0.428876810 0.954965551 0.954965551 \n",
       "         19          20          21          22          23          24 \n",
       "0.176652875 0.123816319 0.025903861 0.778790277 0.979952865 0.330921423 "
      ]
     },
     "metadata": {},
     "output_type": "display_data"
    }
   ],
   "source": [
    "res.back$fitted.values"
   ]
  },
  {
   "cell_type": "markdown",
   "metadata": {},
   "source": [
    "Sometimes, it is interesting to see the relationship between the estimated probability and each exploratory variable. For example,"
   ]
  },
  {
   "cell_type": "code",
   "execution_count": 9,
   "metadata": {},
   "outputs": [
    {
     "data": {
      "image/png": "[encoded data removed]",
      "text/plain": [
       "plot without title"
      ]
     },
     "metadata": {
      "image/png": {
       "height": 420,
       "width": 420
      }
     },
     "output_type": "display_data"
    }
   ],
   "source": [
    "plot(midterm1, res.back$fitted.values)"
   ]
  }
 ],
 "metadata": {
  "kernelspec": {
   "display_name": "R",
   "language": "R",
   "name": "ir"
  },
  "language_info": {
   "codemirror_mode": "r",
   "file_extension": ".r",
   "mimetype": "text/x-r-source",
   "name": "R",
   "pygments_lexer": "r",
   "version": "4.0.2"
  }
 },
 "nbformat": 4,
 "nbformat_minor": 4
}
